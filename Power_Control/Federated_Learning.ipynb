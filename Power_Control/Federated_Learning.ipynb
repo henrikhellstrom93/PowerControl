{
 "cells": [
  {
   "cell_type": "code",
   "execution_count": 1,
   "metadata": {},
   "outputs": [],
   "source": [
    "#Simulation settings\n",
    "num_rounds = 10 # Number of communication rounds\n",
    "num_devices = 2 # Number of devices\n",
    "bs = 50 # Batch size for local training at devices\n",
    "ep = 2 # Number of local epochs before communication round\n",
    "filename = \"0.1-noise-2-devices\""
   ]
  },
  {
   "cell_type": "code",
   "execution_count": 2,
   "metadata": {},
   "outputs": [
    {
     "name": "stdout",
     "output_type": "stream",
     "text": [
      "Dataset loaded.\n"
     ]
    }
   ],
   "source": [
    "#Load MNIST dataset\n",
    "import tensorflow as tf\n",
    "import time\n",
    "\n",
    "mnist = tf.keras.datasets.mnist\n",
    "\n",
    "(x_train, y_train), (x_test, y_test) = mnist.load_data()\n",
    "x_train, x_test = x_train/255, x_test/255\n",
    "\n",
    "num_samples = len(x_train)\n",
    "\n",
    "#Split dataset into shards\n",
    "samples_per_shard = int(num_samples/num_devices)\n",
    "x_train_shards = []\n",
    "y_train_shards = []\n",
    "for i in range(num_devices):\n",
    "    x_train_shard = x_train[i*samples_per_shard:(i+1)*samples_per_shard]\n",
    "    x_train_shards.append(x_train_shard)\n",
    "    y_train_shard = y_train[i*samples_per_shard:(i+1)*samples_per_shard]\n",
    "    y_train_shards.append(y_train_shard)\n",
    "\n",
    "print(\"Dataset loaded.\")"
   ]
  },
  {
   "cell_type": "code",
   "execution_count": 3,
   "metadata": {},
   "outputs": [],
   "source": [
    "#Set up DNN models\n",
    "model_template = tf.keras.models.Sequential([\n",
    "    tf.keras.layers.Flatten(input_shape=(28,28)),\n",
    "    tf.keras.layers.Dense(128, activation='relu'),\n",
    "    tf.keras.layers.Dropout(0.2),\n",
    "    tf.keras.layers.Dense(10)\n",
    "])\n",
    "\n",
    "model_list = []\n",
    "\n",
    "for i in range(num_devices):\n",
    "    model_list.append(tf.keras.models.clone_model(model_template))\n",
    "\n",
    "loss_fn = tf.keras.losses.SparseCategoricalCrossentropy(from_logits=True)\n",
    "\n",
    "for model in model_list:\n",
    "    model.compile(optimizer='adam', loss=loss_fn, metrics=['accuracy'])"
   ]
  },
  {
   "cell_type": "code",
   "execution_count": 4,
   "metadata": {},
   "outputs": [
    {
     "name": "stdout",
     "output_type": "stream",
     "text": [
      "Communication round 1/10\n",
      "4 seconds elapsed\n",
      "\n",
      "Communication round 2/10\n",
      "3 seconds elapsed\n",
      "\n",
      "Communication round 3/10\n",
      "3 seconds elapsed\n",
      "\n",
      "Communication round 4/10\n",
      "3 seconds elapsed\n",
      "\n",
      "Communication round 5/10\n",
      "3 seconds elapsed\n",
      "\n",
      "Communication round 6/10\n",
      "3 seconds elapsed\n",
      "\n",
      "Communication round 7/10\n",
      "3 seconds elapsed\n",
      "\n",
      "Communication round 8/10\n",
      "3 seconds elapsed\n",
      "\n",
      "Communication round 9/10\n",
      "3 seconds elapsed\n",
      "\n",
      "Communication round 10/10\n",
      "3 seconds elapsed\n",
      "\n",
      "Final accuracy 0.9807999730110168\n"
     ]
    }
   ],
   "source": [
    "#Train DNN\n",
    "acc_history = []\n",
    "for r in range(num_rounds):\n",
    "    print(\"Communication round \" + str(r+1) + \"/\" + str(num_rounds))\n",
    "    start = time.time()\n",
    "    #Train using local dataset\n",
    "    for d in range(num_devices): #TODO: Parallelize\n",
    "        model_list[d].fit(x_train_shards[d], y_train_shards[d], batch_size=bs, epochs=ep, verbose=0)\n",
    "    #Calculate weight average\n",
    "    average_weights = model_list[0].get_weights()\n",
    "    for d in range(num_devices): #This could be done in a faster way\n",
    "        if d == 0:\n",
    "            continue\n",
    "        weights = model_list[d].get_weights()\n",
    "        for l in range(len(average_weights)):\n",
    "            average_weights[l] = average_weights[l] + weights[l]\n",
    "    for l in range(len(average_weights)):\n",
    "            average_weights[l] = average_weights[l]/num_devices\n",
    "    \n",
    "    #Set model of all devices to the average\n",
    "    for model in model_list:\n",
    "        model.set_weights(average_weights)\n",
    "    acc_history.append(model_list[0].evaluate(x_test, y_test, verbose=0)[1])\n",
    "    print(str(int(time.time()-start)) + \" seconds elapsed\\n\")\n",
    "    \n",
    "print(\"Final accuracy\", acc_history[-1])"
   ]
  },
  {
   "cell_type": "code",
   "execution_count": 5,
   "metadata": {
    "scrolled": true
   },
   "outputs": [
    {
     "data": {
      "image/png": "[encoded data removed]",
      "text/plain": [
       "<Figure size 432x288 with 1 Axes>"
      ]
     },
     "metadata": {
      "needs_background": "light"
     },
     "output_type": "display_data"
    }
   ],
   "source": [
    "#Plot accuracy\n",
    "import matplotlib.pyplot as plt\n",
    "fig = plt.figure()\n",
    "plt.plot(range(len(acc_history[0:])), acc_history[0:])\n",
    "plt.savefig(filename, format='png')"
   ]
  },
  {
   "cell_type": "code",
   "execution_count": 16,
   "metadata": {},
   "outputs": [
    {
     "name": "stdout",
     "output_type": "stream",
     "text": [
      "[5 0 4 1 9 2 1 3 1 4 3 5 3 6 1 7 2 8 6 9 4 0 9 1 1 2 4 3 2 7 3 8 6 9 0 5 6\n",
      " 0 7 6 1 8 7 9 3 9 8 5 9 3]\n"
     ]
    }
   ],
   "source": [
    "print(y_train_shards[0][0:50])"
   ]
  },
  {
   "cell_type": "code",
   "execution_count": null,
   "metadata": {},
   "outputs": [],
   "source": []
  }
 ],
 "metadata": {
  "kernelspec": {
   "display_name": "Python 3",
   "language": "python",
   "name": "python3"
  },
  "language_info": {
   "codemirror_mode": {
    "name": "ipython",
    "version": 3
   },
   "file_extension": ".py",
   "mimetype": "text/x-python",
   "name": "python",
   "nbconvert_exporter": "python",
   "pygments_lexer": "ipython3",
   "version": "3.8.5"
  }
 },
 "nbformat": 4,
 "nbformat_minor": 4
}
